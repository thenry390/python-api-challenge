{
 "cells": [
  {
   "cell_type": "code",
   "execution_count": 471,
   "metadata": {},
   "outputs": [],
   "source": [
    "# Dependencies\n",
    "import matplotlib.pyplot as plt\n",
    "import requests\n",
    "import pandas as pd\n",
    "from config import api_key\n",
    "import random\n",
    "from scipy.stats import linregress"
   ]
  },
  {
   "cell_type": "code",
   "execution_count": 472,
   "metadata": {},
   "outputs": [
    {
     "data": {
      "text/plain": [
       "'http://api.openweathermap.org/data/2.5/weather?appid=2de2db1c8e4c99e5f00e507721328f22&units=imperial&q='"
      ]
     },
     "execution_count": 472,
     "metadata": {},
     "output_type": "execute_result"
    }
   ],
   "source": [
    "# Save config information.\n",
    "url = \"http://api.openweathermap.org/data/2.5/weather?\"\n",
    "units = \"imperial\"\n",
    "# Build partial query URL\n",
    "query_url = f\"{url}appid={api_key}&units={units}&q=\"\n",
    "# Store filepath in a variable\n",
    "query_url"
   ]
  },
  {
   "cell_type": "code",
   "execution_count": 473,
   "metadata": {},
   "outputs": [
    {
     "name": "stdout",
     "output_type": "stream",
     "text": [
      "46832\n"
     ]
    }
   ],
   "source": [
    "file_one = \"Resources/worldcities.csv\"\n",
    "file_one_df = pd.read_csv(file_one, encoding=\"ISO-8859-1\")\n",
    "print(len(file_one_df))"
   ]
  },
  {
   "cell_type": "code",
   "execution_count": 486,
   "metadata": {},
   "outputs": [
    {
     "data": {
      "text/plain": [
       "['matozinhos',\n",
       " 'cernat',\n",
       " 'napoleon',\n",
       " 'lepseny',\n",
       " 'xadani',\n",
       " 'sinait',\n",
       " 'alindao',\n",
       " 'dergachi',\n",
       " 'san sebastian de los reyes',\n",
       " 'hollis',\n",
       " 'salva',\n",
       " 'luciu',\n",
       " 'xiangxiang',\n",
       " 'bagnacavallo',\n",
       " 'crofton',\n",
       " 'thika',\n",
       " 'sao bento do sul',\n",
       " 'mezapa',\n",
       " 'ferndale',\n",
       " 'la guama',\n",
       " 'moshkovo',\n",
       " 'nisshin',\n",
       " 'hondagua',\n",
       " 'gamboula',\n",
       " 'fushe-kruje',\n",
       " 'ricardo palma',\n",
       " 'puchheim',\n",
       " 'jork',\n",
       " 'znamenskoye',\n",
       " 'candesti',\n",
       " 'oaxaca',\n",
       " 'iberia',\n",
       " 'clovis',\n",
       " 'miracema',\n",
       " 'kuybyshevo',\n",
       " 'bijie',\n",
       " 'brahmapuri',\n",
       " 'azrow',\n",
       " 'chimaltenango',\n",
       " 'koppal',\n",
       " 'makurdi',\n",
       " 'kuroiso',\n",
       " 'socorro',\n",
       " 'gujar khan',\n",
       " 'rosia de amaradia',\n",
       " 'grove city',\n",
       " 'lollar',\n",
       " 'tarnos',\n",
       " 'nur',\n",
       " 'rocafuerte']"
      ]
     },
     "execution_count": 486,
     "metadata": {},
     "output_type": "execute_result"
    }
   ],
   "source": [
    "file_two_df=file_one_df.sample(50)\n",
    "cities = file_two_df[\"City\"].tolist()\n",
    "#city_list = file_one_df[\"City\"].tolist()\n",
    "#random.shuffle(city_list)\n",
    "#cities=city_list[0:20]\n",
    "cities"
   ]
  },
  {
   "cell_type": "code",
   "execution_count": 487,
   "metadata": {},
   "outputs": [
    {
     "name": "stdout",
     "output_type": "stream",
     "text": [
      "City not found: xadani\n"
     ]
    }
   ],
   "source": [
    "#cities = [\"Wallonia\",\"Paris\", \"London\", \"Oslo\", \"Beijing\",\"Chicago\",\"Saint-Nicolas\", \"Sydney\"]\n",
    "#cities = file_one_df[\"city\"].tolist()\n",
    "\n",
    "    # set up lists to hold reponse info\n",
    "#cit = []\n",
    "lat = []\n",
    "lon = []\n",
    "temp = []\n",
    "hum = []\n",
    "cloud = []\n",
    "wind = []\n",
    "try: \n",
    "    # Loop through the list of cities and perform a request for data on each\n",
    "    for city in cities:\n",
    "        response = requests.get(query_url + city).json()\n",
    "#        cit.append(city)\n",
    "        lat.append(response['coord']['lat'])\n",
    "        lon.append(response['coord']['lon'])\n",
    "        temp.append(response['main']['temp'])\n",
    "        hum.append(response['main']['humidity'])\n",
    "        cloud.append(response['clouds']['all'])\n",
    "        wind.append(response['wind']['speed'])\n",
    "       \n",
    "#        print(f\"The city: {cit}\")\n",
    "#        print(f\"The latitude information received is: {lat}\")\n",
    "#        print(f\"The longitude information received is: {lon}\")\n",
    "#        print(f\"The temperature information received is: {temp}\")\n",
    "#        print(f\"The humidity information received is: {hum}\")\n",
    "#        print(f\"The cloudiness information received is: {cloud}\")\n",
    "#        print(f\"The wind speed information received is: {wind}\")        \n",
    "\n",
    "except KeyError:\n",
    "    print(\"City not found: \" + city)\n",
    "except NameError:\n",
    "    print(\"'name' not defined\") \n",
    "except ValueError:\n",
    "    print(\"'value' not defined\") "
   ]
  },
  {
   "cell_type": "code",
   "execution_count": null,
   "metadata": {},
   "outputs": [],
   "source": [
    "# create a dataframe from city, lat, temp, hum, cloud, and wind\n",
    "\n",
    "weather_dict = {\n",
    "#    \"city\": cit,\n",
    "    \"lat\": lat,\n",
    "    \"lon\" : lon,\n",
    "    \"temp\": temp,\n",
    "    \"hum\" : hum,\n",
    "    \"cloud\" : cloud,\n",
    "    \"wind\" : wind\n",
    "}\n",
    "weather_data = pd.DataFrame(weather_dict)\n",
    "    \n",
    "weather_data.to_csv(\"Output/WeatherPyOutput.csv\", index=True, header=True)"
   ]
  },
  {
   "cell_type": "code",
   "execution_count": 488,
   "metadata": {},
   "outputs": [
    {
     "data": {
      "text/html": [
       "<div>\n",
       "<style scoped>\n",
       "    .dataframe tbody tr th:only-of-type {\n",
       "        vertical-align: middle;\n",
       "    }\n",
       "\n",
       "    .dataframe tbody tr th {\n",
       "        vertical-align: top;\n",
       "    }\n",
       "\n",
       "    .dataframe thead th {\n",
       "        text-align: right;\n",
       "    }\n",
       "</style>\n",
       "<table border=\"1\" class=\"dataframe\">\n",
       "  <thead>\n",
       "    <tr style=\"text-align: right;\">\n",
       "      <th></th>\n",
       "      <th>city</th>\n",
       "      <th>lat</th>\n",
       "      <th>lon</th>\n",
       "      <th>temp</th>\n",
       "      <th>hum</th>\n",
       "      <th>cloud</th>\n",
       "      <th>wind</th>\n",
       "    </tr>\n",
       "  </thead>\n",
       "  <tbody>\n",
       "    <tr>\n",
       "      <th>0</th>\n",
       "      <td>salcia</td>\n",
       "      <td>44.14</td>\n",
       "      <td>22.93</td>\n",
       "      <td>54.00</td>\n",
       "      <td>6</td>\n",
       "      <td>22</td>\n",
       "      <td>3.44</td>\n",
       "    </tr>\n",
       "    <tr>\n",
       "      <th>1</th>\n",
       "      <td>anuchino</td>\n",
       "      <td>43.96</td>\n",
       "      <td>133.05</td>\n",
       "      <td>52.59</td>\n",
       "      <td>85</td>\n",
       "      <td>100</td>\n",
       "      <td>7.34</td>\n",
       "    </tr>\n",
       "    <tr>\n",
       "      <th>2</th>\n",
       "      <td>severo-zadonsk</td>\n",
       "      <td>54.03</td>\n",
       "      <td>38.40</td>\n",
       "      <td>35.02</td>\n",
       "      <td>96</td>\n",
       "      <td>100</td>\n",
       "      <td>6.26</td>\n",
       "    </tr>\n",
       "    <tr>\n",
       "      <th>3</th>\n",
       "      <td>nikita</td>\n",
       "      <td>44.53</td>\n",
       "      <td>34.23</td>\n",
       "      <td>48.24</td>\n",
       "      <td>78</td>\n",
       "      <td>55</td>\n",
       "      <td>5.44</td>\n",
       "    </tr>\n",
       "    <tr>\n",
       "      <th>4</th>\n",
       "      <td>marigliano</td>\n",
       "      <td>40.93</td>\n",
       "      <td>14.46</td>\n",
       "      <td>68.00</td>\n",
       "      <td>56</td>\n",
       "      <td>40</td>\n",
       "      <td>6.93</td>\n",
       "    </tr>\n",
       "  </tbody>\n",
       "</table>\n",
       "</div>"
      ],
      "text/plain": [
       "             city    lat     lon   temp  hum  cloud  wind\n",
       "0          salcia  44.14   22.93  54.00    6     22  3.44\n",
       "1        anuchino  43.96  133.05  52.59   85    100  7.34\n",
       "2  severo-zadonsk  54.03   38.40  35.02   96    100  6.26\n",
       "3          nikita  44.53   34.23  48.24   78     55  5.44\n",
       "4      marigliano  40.93   14.46  68.00   56     40  6.93"
      ]
     },
     "execution_count": 488,
     "metadata": {},
     "output_type": "execute_result"
    }
   ],
   "source": [
    "weather_data"
   ]
  },
  {
   "cell_type": "code",
   "execution_count": 489,
   "metadata": {},
   "outputs": [
    {
     "name": "stdout",
     "output_type": "stream",
     "text": [
      "The r-squared is: 0.855250766989256\n"
     ]
    },
    {
     "data": {
      "image/png": "[encoded data removed]",
      "text/plain": [
       "<Figure size 432x288 with 1 Axes>"
      ]
     },
     "metadata": {
      "needs_background": "light"
     },
     "output_type": "display_data"
    }
   ],
   "source": [
    "# Build a scatter plot: Temperature (Imperial) versus Latitude\n",
    "\n",
    "x_values = weather_data[\"temp\"]\n",
    "y_values = weather_data[\"lat\"]\n",
    "(slope, intercept, rvalue, pvalue, stderr) = linregress(x_values, y_values)\n",
    "regress_values = x_values * slope + intercept\n",
    "line_eq = \"y = \" + str(round(slope,2)) + \"x + \" + str(round(intercept,2))\n",
    "plt.scatter(weather_data[\"temp\"], weather_data[\"lat\"], marker=\"o\")\n",
    "\n",
    "plt.plot(x_values,regress_values,\"r-\")\n",
    "plt.annotate(line_eq,(0,50),fontsize=15,color=\"red\")\n",
    "plt.xlabel('Temperature (Fahrenheit)')\n",
    "plt.ylabel('Latitude')\n",
    "print(f\"The r-squared is: {rvalue**2}\")\n",
    "plt.grid(True)\n",
    "plt.title(\"Temperature (Imperial) versus Latitude\")\n",
    "# Save the figure\n",
    "plt.savefig(\"Output/TemperatureInWorldCities.png\")\n",
    "plt.show()"
   ]
  },
  {
   "cell_type": "code",
   "execution_count": null,
   "metadata": {},
   "outputs": [],
   "source": [
    "# Build a scatter plot: Humidity (%) vs. Latitude\n",
    "x_values = weather_data[\"hum\"]\n",
    "y_values = weather_data[\"lat\"]\n",
    "(slope, intercept, rvalue, pvalue, stderr) = linregress(x_values, y_values)\n",
    "regress_values = x_values * slope + intercept\n",
    "line_eq = \"y = \" + str(round(slope,2)) + \"x + \" + str(round(intercept,2))\n",
    "plt.scatter(weather_data[\"hum\"], weather_data[\"lat\"], marker=\"o\")\n",
    "\n",
    "plt.plot(x_values,regress_values,\"r-\")\n",
    "plt.annotate(line_eq,(0,50),fontsize=15,color=\"red\")\n",
    "print(f\"The r-squared is: {rvalue**2}\")\n",
    "plt.title(\"Humidity (%) vs. Latitude in World Cities\")\n",
    "plt.xlabel(\"Humidity\")\n",
    "plt.ylabel(\"Latitude\")\n",
    "plt.grid(True)\n",
    "# Save the figure\n",
    "plt.savefig(\"Output/HumidityInWorldCities.png\")\n",
    "\n",
    "plt.show()"
   ]
  },
  {
   "cell_type": "code",
   "execution_count": null,
   "metadata": {},
   "outputs": [],
   "source": [
    "# Build a scatter plot: Cloudiness (%) vs. Latitude\n",
    "x_values = weather_data[\"cloud\"]\n",
    "y_values = weather_data[\"lat\"]\n",
    "(slope, intercept, rvalue, pvalue, stderr) = linregress(x_values, y_values)\n",
    "regress_values = x_values * slope + intercept\n",
    "line_eq = \"y = \" + str(round(slope,2)) + \"x + \" + str(round(intercept,2))\n",
    "plt.scatter(weather_data[\"cloud\"], weather_data[\"lat\"], marker=\"o\")\n",
    "\n",
    "plt.plot(x_values,regress_values,\"r-\")\n",
    "plt.annotate(line_eq,(0,50),fontsize=15,color=\"red\")\n",
    "print(f\"The r-squared is: {rvalue**2}\")\n",
    "plt.title(\"Cloudiness in World Cities\")\n",
    "plt.ylabel(\"Latitude\")\n",
    "plt.xlabel(\"Cloudiness\")\n",
    "plt.grid(True)\n",
    "# Save the figure\n",
    "plt.savefig(\"Output/CloudinessInWorldCities.png\")\n",
    "\n",
    "plt.show()"
   ]
  },
  {
   "cell_type": "code",
   "execution_count": null,
   "metadata": {},
   "outputs": [],
   "source": [
    "# Build a scatter plot: Wind Speed vs. Latitude\n",
    "x_values = weather_data[\"wind\"]\n",
    "y_values = weather_data[\"lat\"]\n",
    "(slope, intercept, rvalue, pvalue, stderr) = linregress(x_values, y_values)\n",
    "regress_values = x_values * slope + intercept\n",
    "line_eq = \"y = \" + str(round(slope,2)) + \"x + \" + str(round(intercept,2))\n",
    "plt.scatter(weather_data[\"wind\"], weather_data[\"lat\"], marker=\"o\")\n",
    "\n",
    "plt.plot(x_values,regress_values,\"r-\")\n",
    "plt.annotate(line_eq,(0,50),fontsize=15,color=\"red\")\n",
    "print(f\"The r-squared is: {rvalue**2}\")\n",
    "plt.title(\"Wind Speed in World Cities\")\n",
    "plt.ylabel(\"Latitude\")\n",
    "plt.xlabel(\"Wind Speed\")\n",
    "plt.grid(True)\n",
    "# Save the figure\n",
    "plt.savefig(\"Output/WindSpeedInWorldCities.png\")\n",
    "\n",
    "plt.show()"
   ]
  },
  {
   "cell_type": "code",
   "execution_count": null,
   "metadata": {},
   "outputs": [],
   "source": [
    "weather_data_north=weather_data[weather_data[\"lat\"]>=0]\n",
    "weather_data_south=weather_data[weather_data[\"lat\"]<0]"
   ]
  },
  {
   "cell_type": "code",
   "execution_count": null,
   "metadata": {},
   "outputs": [],
   "source": [
    "weather_data_south"
   ]
  },
  {
   "cell_type": "code",
   "execution_count": null,
   "metadata": {},
   "outputs": [],
   "source": [
    "# Build a scatter plot: Temperature (Imperial) versus Latitude - Northern Hemisphere\n",
    "x_values = weather_data_north[\"temp\"]\n",
    "y_values = weather_data_north[\"lat\"]\n",
    "(slope, intercept, rvalue, pvalue, stderr) = linregress(x_values, y_values)\n",
    "regress_values = x_values * slope + intercept\n",
    "line_eq = \"y = \" + str(round(slope,2)) + \"x + \" + str(round(intercept,2))\n",
    "plt.scatter(weather_data_north[\"temp\"], weather_data_north[\"lat\"], marker=\"o\")\n",
    "\n",
    "plt.plot(x_values,regress_values,\"r-\")\n",
    "plt.annotate(line_eq,(0,50),fontsize=15,color=\"red\")\n",
    "plt.xlabel('Temperature (Fahrenheit)')\n",
    "plt.ylabel('Latitude')\n",
    "print(f\"The r-squared is: {rvalue**2}\")\n",
    "plt.grid(True)\n",
    "plt.title(\"Temperature (Imperial) versus Latitude - Northern Hemisphere\")\n",
    "# Save the figure\n",
    "plt.savefig(\"Output/TemperatureInWorldCitiesNorthHem.png\")\n",
    "plt.show()"
   ]
  },
  {
   "cell_type": "code",
   "execution_count": null,
   "metadata": {},
   "outputs": [],
   "source": [
    "# Build a scatter plot: Temperature (Imperial) versus Latitude - Southern Hemisphere\n",
    "x_values = weather_data_south[\"temp\"]\n",
    "y_values = weather_data_south[\"lat\"]\n",
    "(slope, intercept, rvalue, pvalue, stderr) = linregress(x_values, y_values)\n",
    "regress_values = x_values * slope + intercept\n",
    "line_eq = \"y = \" + str(round(slope,2)) + \"x + \" + str(round(intercept,2))\n",
    "plt.scatter(weather_data_south[\"temp\"], weather_data_south[\"lat\"], marker=\"o\")\n",
    "\n",
    "plt.plot(x_values,regress_values,\"r-\")\n",
    "plt.annotate(line_eq,(0,50),fontsize=15,color=\"red\")\n",
    "plt.xlabel('Temperature (Fahrenheit)')\n",
    "plt.ylabel('Latitude')\n",
    "print(f\"The r-squared is: {rvalue**2}\")\n",
    "plt.grid(True)\n",
    "plt.title(\"Temperature (Imperial) versus Latitude - Southern Hemisphere\")\n",
    "# Save the figure\n",
    "plt.savefig(\"Output/TemperatureInWorldCitiesSouthHem.png\")\n",
    "plt.show()"
   ]
  },
  {
   "cell_type": "code",
   "execution_count": null,
   "metadata": {},
   "outputs": [],
   "source": [
    "# Build a scatter plot: Humidity (%) vs. Latitude - Northern Hemisphere\n",
    "x_values = weather_data_north[\"hum\"]\n",
    "y_values = weather_data_north[\"lat\"]\n",
    "(slope, intercept, rvalue, pvalue, stderr) = linregress(x_values, y_values)\n",
    "regress_values = x_values * slope + intercept\n",
    "line_eq = \"y = \" + str(round(slope,2)) + \"x + \" + str(round(intercept,2))\n",
    "plt.scatter(weather_data_north[\"hum\"], weather_data_north[\"lat\"], marker=\"o\")\n",
    "\n",
    "plt.plot(x_values,regress_values,\"r-\")\n",
    "plt.annotate(line_eq,(0,50),fontsize=15,color=\"red\")\n",
    "print(f\"The r-squared is: {rvalue**2}\")\n",
    "plt.title(\"Humidity (%) vs. Latitude in World Cities - Northern Hemisphere\")\n",
    "plt.xlabel(\"Humidity\")\n",
    "plt.ylabel(\"Latitude\")\n",
    "plt.grid(True)\n",
    "# Save the figure\n",
    "plt.savefig(\"Output/HumidityInWorldCitiesNorthHem.png\")\n",
    "\n",
    "plt.show()"
   ]
  },
  {
   "cell_type": "code",
   "execution_count": null,
   "metadata": {},
   "outputs": [],
   "source": [
    "# Build a scatter plot: Humidity (%) vs. Latitude - Southern Hemisphere\n",
    "x_values = weather_data_south[\"hum\"]\n",
    "y_values = weather_data_south[\"lat\"]\n",
    "(slope, intercept, rvalue, pvalue, stderr) = linregress(x_values, y_values)\n",
    "regress_values = x_values * slope + intercept\n",
    "line_eq = \"y = \" + str(round(slope,2)) + \"x + \" + str(round(intercept,2))\n",
    "plt.scatter(weather_data_south[\"hum\"], weather_data_south[\"lat\"], marker=\"o\")\n",
    "\n",
    "plt.plot(x_values,regress_values,\"r-\")\n",
    "plt.annotate(line_eq,(0,50),fontsize=15,color=\"red\")\n",
    "print(f\"The r-squared is: {rvalue**2}\")\n",
    "plt.title(\"Humidity (%) vs. Latitude in World Cities - Southern Hemisphere\")\n",
    "plt.xlabel(\"Humidity\")\n",
    "plt.ylabel(\"Latitude\")\n",
    "plt.grid(True)\n",
    "# Save the figure\n",
    "plt.savefig(\"Output/HumidityInWorldCitiesSouthHem.png\")\n",
    "\n",
    "plt.show()"
   ]
  },
  {
   "cell_type": "code",
   "execution_count": null,
   "metadata": {},
   "outputs": [],
   "source": [
    "# Build a scatter plot: Cloudiness (%) vs. Latitude - Northern Hemisphere\n",
    "x_values = weather_data_north[\"cloud\"]\n",
    "y_values = weather_data_north[\"lat\"]\n",
    "(slope, intercept, rvalue, pvalue, stderr) = linregress(x_values, y_values)\n",
    "regress_values = x_values * slope + intercept\n",
    "line_eq = \"y = \" + str(round(slope,2)) + \"x + \" + str(round(intercept,2))\n",
    "plt.scatter(weather_data_north[\"cloud\"], weather_data_north[\"lat\"], marker=\"o\")\n",
    "\n",
    "plt.plot(x_values,regress_values,\"r-\")\n",
    "plt.annotate(line_eq,(0,50),fontsize=15,color=\"red\")\n",
    "print(f\"The r-squared is: {rvalue**2}\")\n",
    "plt.title(\"Cloudiness in World Cities - Northern Hemisphere\")\n",
    "plt.ylabel(\"Latitude\")\n",
    "plt.xlabel(\"Cloudiness\")\n",
    "plt.grid(True)\n",
    "# Save the figure\n",
    "plt.savefig(\"Output/CloudinessInWorldCitiesNorthHem.png\")\n",
    "\n",
    "plt.show()"
   ]
  },
  {
   "cell_type": "code",
   "execution_count": null,
   "metadata": {},
   "outputs": [],
   "source": [
    "# Build a scatter plot: Cloudiness (%) vs. Latitude - Southern Hemisphere\n",
    "x_values = weather_data_south[\"cloud\"]\n",
    "y_values = weather_data_south[\"lat\"]\n",
    "(slope, intercept, rvalue, pvalue, stderr) = linregress(x_values, y_values)\n",
    "regress_values = x_values * slope + intercept\n",
    "line_eq = \"y = \" + str(round(slope,2)) + \"x + \" + str(round(intercept,2))\n",
    "plt.scatter(weather_data_south[\"cloud\"], weather_data_south[\"lat\"], marker=\"o\")\n",
    "\n",
    "plt.plot(x_values,regress_values,\"r-\")\n",
    "plt.annotate(line_eq,(0,50),fontsize=15,color=\"red\")\n",
    "print(f\"The r-squared is: {rvalue**2}\")\n",
    "plt.title(\"Cloudiness in World Cities - Southern Hemisphere\")\n",
    "plt.ylabel(\"Latitude\")\n",
    "plt.xlabel(\"Cloudiness\")\n",
    "plt.grid(True)\n",
    "# Save the figure\n",
    "plt.savefig(\"Output/CloudinessInWorldCitiesSouthHem.png\")\n",
    "\n",
    "plt.show()"
   ]
  },
  {
   "cell_type": "code",
   "execution_count": null,
   "metadata": {},
   "outputs": [],
   "source": [
    "# Build a scatter plot: Wind Speed (mph) vs. Latitude - Northern Hemisphere\n",
    "x_values = weather_data_north[\"wind\"]\n",
    "y_values = weather_data_north[\"lat\"]\n",
    "(slope, intercept, rvalue, pvalue, stderr) = linregress(x_values, y_values)\n",
    "regress_values = x_values * slope + intercept\n",
    "line_eq = \"y = \" + str(round(slope,2)) + \"x + \" + str(round(intercept,2))\n",
    "plt.scatter(weather_data_north[\"wind\"], weather_data_north[\"lat\"], marker=\"o\")\n",
    "\n",
    "plt.plot(x_values,regress_values,\"r-\")\n",
    "plt.annotate(line_eq,(0,50),fontsize=15,color=\"red\")\n",
    "print(f\"The r-squared is: {rvalue**2}\")\n",
    "plt.title(\"Wind Speed in World Cities - Northern Hemisphere\")\n",
    "plt.ylabel(\"Latitude\")\n",
    "plt.xlabel(\"Wind Speed\")\n",
    "plt.grid(True)\n",
    "# Save the figure\n",
    "plt.savefig(\"Output/WindSpeedInWorldCitiesNorthHem.png\")\n",
    "\n",
    "plt.show()"
   ]
  },
  {
   "cell_type": "code",
   "execution_count": null,
   "metadata": {},
   "outputs": [],
   "source": [
    "# Build a scatter plot: Wind Speed (mph) vs. Latitude - Southern Hemisphere\n",
    "x_values = weather_data_south[\"wind\"]\n",
    "y_values = weather_data_south[\"lat\"]\n",
    "(slope, intercept, rvalue, pvalue, stderr) = linregress(x_values, y_values)\n",
    "regress_values = x_values * slope + intercept\n",
    "line_eq = \"y = \" + str(round(slope,2)) + \"x + \" + str(round(intercept,2))\n",
    "plt.scatter(weather_data_south[\"wind\"], weather_data_south[\"lat\"], marker=\"o\")\n",
    "\n",
    "plt.plot(x_values,regress_values,\"r-\")\n",
    "plt.annotate(line_eq,(0,50),fontsize=15,color=\"red\")\n",
    "print(f\"The r-squared is: {rvalue**2}\")\n",
    "plt.title(\"Wind Speed in World Cities - Southern Hemisphere\")\n",
    "plt.ylabel(\"Latitude\")\n",
    "plt.xlabel(\"Wind Speed\")\n",
    "plt.grid(True)\n",
    "# Save the figure\n",
    "plt.savefig(\"Output/WindSpeedInWorldCitiesSouthHem.png\")\n",
    "\n",
    "plt.show()"
   ]
  },
  {
   "cell_type": "code",
   "execution_count": null,
   "metadata": {},
   "outputs": [],
   "source": []
  },
  {
   "cell_type": "code",
   "execution_count": null,
   "metadata": {},
   "outputs": [],
   "source": []
  }
 ],
 "metadata": {
  "kernelspec": {
   "display_name": "Python 3",
   "language": "python",
   "name": "python3"
  },
  "language_info": {
   "codemirror_mode": {
    "name": "ipython",
    "version": 3
   },
   "file_extension": ".py",
   "mimetype": "text/x-python",
   "name": "python",
   "nbconvert_exporter": "python",
   "pygments_lexer": "ipython3",
   "version": "3.8.3"
  },
  "varInspector": {
   "cols": {
    "lenName": 16,
    "lenType": 16,
    "lenVar": 40
   },
   "kernels_config": {
    "python": {
     "delete_cmd_postfix": "",
     "delete_cmd_prefix": "del ",
     "library": "var_list.py",
     "varRefreshCmd": "print(var_dic_list())"
    },
    "r": {
     "delete_cmd_postfix": ") ",
     "delete_cmd_prefix": "rm(",
     "library": "var_list.r",
     "varRefreshCmd": "cat(var_dic_list()) "
    }
   },
   "types_to_exclude": [
    "module",
    "function",
    "builtin_function_or_method",
    "instance",
    "_Feature"
   ],
   "window_display": false
  }
 },
 "nbformat": 4,
 "nbformat_minor": 2
}
