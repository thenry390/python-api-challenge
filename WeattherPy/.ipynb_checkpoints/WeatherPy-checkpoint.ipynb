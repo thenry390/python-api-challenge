{
 "cells": [
  {
   "cell_type": "code",
   "execution_count": 181,
   "metadata": {},
   "outputs": [],
   "source": [
    "# Dependencies\n",
    "import matplotlib.pyplot as plt\n",
    "import requests\n",
    "import pandas as pd\n",
    "from config import api_key\n",
    "import random"
   ]
  },
  {
   "cell_type": "code",
   "execution_count": 212,
   "metadata": {},
   "outputs": [
    {
     "data": {
      "text/plain": [
       "'http://api.openweathermap.org/data/2.5/weather?appid=2de2db1c8e4c99e5f00e507721328f22&units=imperial&q='"
      ]
     },
     "execution_count": 212,
     "metadata": {},
     "output_type": "execute_result"
    }
   ],
   "source": [
    "# Save config information.\n",
    "url = \"http://api.openweathermap.org/data/2.5/weather?\"\n",
    "units = \"imperial\"\n",
    "# Build partial query URL\n",
    "query_url = f\"{url}appid={api_key}&units={units}&q=\"\n",
    "# Store filepath in a variable\n",
    "query_url"
   ]
  },
  {
   "cell_type": "code",
   "execution_count": 183,
   "metadata": {},
   "outputs": [
    {
     "name": "stdout",
     "output_type": "stream",
     "text": [
      "46832\n"
     ]
    }
   ],
   "source": [
    "file_one = \"Resources/worldcities.csv\"\n",
    "file_one_df = pd.read_csv(file_one, encoding=\"ISO-8859-1\")\n",
    "print(len(file_one_df))"
   ]
  },
  {
   "cell_type": "code",
   "execution_count": 208,
   "metadata": {},
   "outputs": [
    {
     "data": {
      "text/plain": [
       "['pancol',\n",
       " 'passagem franca',\n",
       " 'halayhay',\n",
       " 'nkoaranga',\n",
       " 'heide',\n",
       " 'trofaiach',\n",
       " 'xacmaz',\n",
       " 'dauphin',\n",
       " 'inverkip',\n",
       " 'mennecy',\n",
       " 'demecser',\n",
       " 'khotynets',\n",
       " 'rathangan',\n",
       " 'rockport',\n",
       " 'coatepec harinas',\n",
       " 'logon',\n",
       " 'ribera',\n",
       " 'kiriakion',\n",
       " 'capurso',\n",
       " 'columbia']"
      ]
     },
     "execution_count": 208,
     "metadata": {},
     "output_type": "execute_result"
    }
   ],
   "source": [
    "city_list = file_one_df[\"City\"].tolist()\n",
    "random.shuffle(city_list)\n",
    "cities=city_list[0:20]\n",
    "cities"
   ]
  },
  {
   "cell_type": "code",
   "execution_count": 233,
   "metadata": {},
   "outputs": [
    {
     "name": "stdout",
     "output_type": "stream",
     "text": [
      "city: pancol\n",
      "The latitude information received is: [10.87]\n",
      "The longitude information received is: [119.42]\n",
      "The temperature information received is: [80.11]\n",
      "The humidity information received is: [85]\n",
      "The cloudiness information received is: [100]\n",
      "The wind speed information received is: [5.23]\n",
      "city: passagem franca\n",
      "The latitude information received is: [10.87, -6.18]\n",
      "The longitude information received is: [119.42, -43.78]\n",
      "The temperature information received is: [80.11, 85.68]\n",
      "The humidity information received is: [85, 33]\n",
      "The cloudiness information received is: [100, 68]\n",
      "The wind speed information received is: [5.23, 2.95]\n",
      "city: halayhay\n",
      "The latitude information received is: [10.87, -6.18, 14.37]\n",
      "The longitude information received is: [119.42, -43.78, 120.81]\n",
      "The temperature information received is: [80.11, 85.68, 81.19]\n",
      "The humidity information received is: [85, 33, 83]\n",
      "The cloudiness information received is: [100, 68, 90]\n",
      "The wind speed information received is: [5.23, 2.95, 3.36]\n",
      "city: nkoaranga\n",
      "The latitude information received is: [10.87, -6.18, 14.37, -3.33]\n",
      "The longitude information received is: [119.42, -43.78, 120.81, 36.8]\n",
      "The temperature information received is: [80.11, 85.68, 81.19, 69.73]\n",
      "The humidity information received is: [85, 33, 83, 68]\n",
      "The cloudiness information received is: [100, 68, 90, 20]\n",
      "The wind speed information received is: [5.23, 2.95, 3.36, 11.41]\n",
      "city: heide\n",
      "The latitude information received is: [10.87, -6.18, 14.37, -3.33, 54.2]\n",
      "The longitude information received is: [119.42, -43.78, 120.81, 36.8, 9.1]\n",
      "The temperature information received is: [80.11, 85.68, 81.19, 69.73, 46.99]\n",
      "The humidity information received is: [85, 33, 83, 68, 93]\n",
      "The cloudiness information received is: [100, 68, 90, 20, 100]\n",
      "The wind speed information received is: [5.23, 2.95, 3.36, 11.41, 8.41]\n",
      "city: trofaiach\n",
      "The latitude information received is: [10.87, -6.18, 14.37, -3.33, 54.2, 47.42]\n",
      "The longitude information received is: [119.42, -43.78, 120.81, 36.8, 9.1, 15]\n",
      "The temperature information received is: [80.11, 85.68, 81.19, 69.73, 46.99, 41.49]\n",
      "The humidity information received is: [85, 33, 83, 68, 93, 93]\n",
      "The cloudiness information received is: [100, 68, 90, 20, 100, 95]\n",
      "The wind speed information received is: [5.23, 2.95, 3.36, 11.41, 8.41, 2.24]\n",
      "city: xacmaz\n",
      "The latitude information received is: [10.87, -6.18, 14.37, -3.33, 54.2, 47.42, 41.46]\n",
      "The longitude information received is: [119.42, -43.78, 120.81, 36.8, 9.1, 15, 48.81]\n",
      "The temperature information received is: [80.11, 85.68, 81.19, 69.73, 46.99, 41.49, 59.88]\n",
      "The humidity information received is: [85, 33, 83, 68, 93, 93, 72]\n",
      "The cloudiness information received is: [100, 68, 90, 20, 100, 95, 14]\n",
      "The wind speed information received is: [5.23, 2.95, 3.36, 11.41, 8.41, 2.24, 2.89]\n",
      "city: dauphin\n",
      "The latitude information received is: [10.87, -6.18, 14.37, -3.33, 54.2, 47.42, 41.46, 51.15]\n",
      "The longitude information received is: [119.42, -43.78, 120.81, 36.8, 9.1, 15, 48.81, -100.05]\n",
      "The temperature information received is: [80.11, 85.68, 81.19, 69.73, 46.99, 41.49, 59.88, 34.84]\n",
      "The humidity information received is: [85, 33, 83, 68, 93, 93, 72, 70]\n",
      "The cloudiness information received is: [100, 68, 90, 20, 100, 95, 14, 18]\n",
      "The wind speed information received is: [5.23, 2.95, 3.36, 11.41, 8.41, 2.24, 2.89, 2.33]\n",
      "city: inverkip\n",
      "The latitude information received is: [10.87, -6.18, 14.37, -3.33, 54.2, 47.42, 41.46, 51.15, 55.91]\n",
      "The longitude information received is: [119.42, -43.78, 120.81, 36.8, 9.1, 15, 48.81, -100.05, -4.87]\n",
      "The temperature information received is: [80.11, 85.68, 81.19, 69.73, 46.99, 41.49, 59.88, 34.84, 51.94]\n",
      "The humidity information received is: [85, 33, 83, 68, 93, 93, 72, 70, 93]\n",
      "The cloudiness information received is: [100, 68, 90, 20, 100, 95, 14, 18, 100]\n",
      "The wind speed information received is: [5.23, 2.95, 3.36, 11.41, 8.41, 2.24, 2.89, 2.33, 3.36]\n",
      "city: mennecy\n",
      "The latitude information received is: [10.87, -6.18, 14.37, -3.33, 54.2, 47.42, 41.46, 51.15, 55.91, 48.57]\n",
      "The longitude information received is: [119.42, -43.78, 120.81, 36.8, 9.1, 15, 48.81, -100.05, -4.87, 2.44]\n",
      "The temperature information received is: [80.11, 85.68, 81.19, 69.73, 46.99, 41.49, 59.88, 34.84, 51.94, 49.41]\n",
      "The humidity information received is: [85, 33, 83, 68, 93, 93, 72, 70, 93, 81]\n",
      "The cloudiness information received is: [100, 68, 90, 20, 100, 95, 14, 18, 100, 54]\n",
      "The wind speed information received is: [5.23, 2.95, 3.36, 11.41, 8.41, 2.24, 2.89, 2.33, 3.36, 8.05]\n",
      "city: demecser\n",
      "The latitude information received is: [10.87, -6.18, 14.37, -3.33, 54.2, 47.42, 41.46, 51.15, 55.91, 48.57, 48.11]\n",
      "The longitude information received is: [119.42, -43.78, 120.81, 36.8, 9.1, 15, 48.81, -100.05, -4.87, 2.44, 21.92]\n",
      "The temperature information received is: [80.11, 85.68, 81.19, 69.73, 46.99, 41.49, 59.88, 34.84, 51.94, 49.41, 42.48]\n",
      "The humidity information received is: [85, 33, 83, 68, 93, 93, 72, 70, 93, 81, 89]\n",
      "The cloudiness information received is: [100, 68, 90, 20, 100, 95, 14, 18, 100, 54, 24]\n",
      "The wind speed information received is: [5.23, 2.95, 3.36, 11.41, 8.41, 2.24, 2.89, 2.33, 3.36, 8.05, 2.24]\n",
      "city: khotynets\n",
      "The latitude information received is: [10.87, -6.18, 14.37, -3.33, 54.2, 47.42, 41.46, 51.15, 55.91, 48.57, 48.11, 53.13]\n",
      "The longitude information received is: [119.42, -43.78, 120.81, 36.8, 9.1, 15, 48.81, -100.05, -4.87, 2.44, 21.92, 35.4]\n",
      "The temperature information received is: [80.11, 85.68, 81.19, 69.73, 46.99, 41.49, 59.88, 34.84, 51.94, 49.41, 42.48, 37.11]\n",
      "The humidity information received is: [85, 33, 83, 68, 93, 93, 72, 70, 93, 81, 89, 81]\n",
      "The cloudiness information received is: [100, 68, 90, 20, 100, 95, 14, 18, 100, 54, 24, 50]\n",
      "The wind speed information received is: [5.23, 2.95, 3.36, 11.41, 8.41, 2.24, 2.89, 2.33, 3.36, 8.05, 2.24, 11.83]\n",
      "city: rathangan\n",
      "The latitude information received is: [10.87, -6.18, 14.37, -3.33, 54.2, 47.42, 41.46, 51.15, 55.91, 48.57, 48.11, 53.13, 53.22]\n",
      "The longitude information received is: [119.42, -43.78, 120.81, 36.8, 9.1, 15, 48.81, -100.05, -4.87, 2.44, 21.92, 35.4, -7]\n",
      "The temperature information received is: [80.11, 85.68, 81.19, 69.73, 46.99, 41.49, 59.88, 34.84, 51.94, 49.41, 42.48, 37.11, 52.86]\n",
      "The humidity information received is: [85, 33, 83, 68, 93, 93, 72, 70, 93, 81, 89, 81, 87]\n",
      "The cloudiness information received is: [100, 68, 90, 20, 100, 95, 14, 18, 100, 54, 24, 50, 75]\n",
      "The wind speed information received is: [5.23, 2.95, 3.36, 11.41, 8.41, 2.24, 2.89, 2.33, 3.36, 8.05, 2.24, 11.83, 11.41]\n",
      "city: rockport\n",
      "The latitude information received is: [10.87, -6.18, 14.37, -3.33, 54.2, 47.42, 41.46, 51.15, 55.91, 48.57, 48.11, 53.13, 53.22, 28.02]\n",
      "The longitude information received is: [119.42, -43.78, 120.81, 36.8, 9.1, 15, 48.81, -100.05, -4.87, 2.44, 21.92, 35.4, -7, -97.05]\n",
      "The temperature information received is: [80.11, 85.68, 81.19, 69.73, 46.99, 41.49, 59.88, 34.84, 51.94, 49.41, 42.48, 37.11, 52.86, 82.74]\n",
      "The humidity information received is: [85, 33, 83, 68, 93, 93, 72, 70, 93, 81, 89, 81, 87, 83]\n",
      "The cloudiness information received is: [100, 68, 90, 20, 100, 95, 14, 18, 100, 54, 24, 50, 75, 40]\n",
      "The wind speed information received is: [5.23, 2.95, 3.36, 11.41, 8.41, 2.24, 2.89, 2.33, 3.36, 8.05, 2.24, 11.83, 11.41, 13.87]\n",
      "city: coatepec harinas\n",
      "The latitude information received is: [10.87, -6.18, 14.37, -3.33, 54.2, 47.42, 41.46, 51.15, 55.91, 48.57, 48.11, 53.13, 53.22, 28.02, 18.89]\n",
      "The longitude information received is: [119.42, -43.78, 120.81, 36.8, 9.1, 15, 48.81, -100.05, -4.87, 2.44, 21.92, 35.4, -7, -97.05, -99.72]\n",
      "The temperature information received is: [80.11, 85.68, 81.19, 69.73, 46.99, 41.49, 59.88, 34.84, 51.94, 49.41, 42.48, 37.11, 52.86, 82.74, 77.11]\n",
      "The humidity information received is: [85, 33, 83, 68, 93, 93, 72, 70, 93, 81, 89, 81, 87, 83, 51]\n",
      "The cloudiness information received is: [100, 68, 90, 20, 100, 95, 14, 18, 100, 54, 24, 50, 75, 40, 40]\n",
      "The wind speed information received is: [5.23, 2.95, 3.36, 11.41, 8.41, 2.24, 2.89, 2.33, 3.36, 8.05, 2.24, 11.83, 11.41, 13.87, 3.36]\n",
      "city: logon\n"
     ]
    },
    {
     "name": "stdout",
     "output_type": "stream",
     "text": [
      "The latitude information received is: [10.87, -6.18, 14.37, -3.33, 54.2, 47.42, 41.46, 51.15, 55.91, 48.57, 48.11, 53.13, 53.22, 28.02, 18.89, 11.33]\n",
      "The longitude information received is: [119.42, -43.78, 120.81, 36.8, 9.1, 15, 48.81, -100.05, -4.87, 2.44, 21.92, 35.4, -7, -97.05, -99.72, 124.11]\n",
      "The temperature information received is: [80.11, 85.68, 81.19, 69.73, 46.99, 41.49, 59.88, 34.84, 51.94, 49.41, 42.48, 37.11, 52.86, 82.74, 77.11, 81.39]\n",
      "The humidity information received is: [85, 33, 83, 68, 93, 93, 72, 70, 93, 81, 89, 81, 87, 83, 51, 78]\n",
      "The cloudiness information received is: [100, 68, 90, 20, 100, 95, 14, 18, 100, 54, 24, 50, 75, 40, 40, 100]\n",
      "The wind speed information received is: [5.23, 2.95, 3.36, 11.41, 8.41, 2.24, 2.89, 2.33, 3.36, 8.05, 2.24, 11.83, 11.41, 13.87, 3.36, 5.1]\n",
      "city: ribera\n",
      "The latitude information received is: [10.87, -6.18, 14.37, -3.33, 54.2, 47.42, 41.46, 51.15, 55.91, 48.57, 48.11, 53.13, 53.22, 28.02, 18.89, 11.33, 37.5]\n",
      "The longitude information received is: [119.42, -43.78, 120.81, 36.8, 9.1, 15, 48.81, -100.05, -4.87, 2.44, 21.92, 35.4, -7, -97.05, -99.72, 124.11, 13.26]\n",
      "The temperature information received is: [80.11, 85.68, 81.19, 69.73, 46.99, 41.49, 59.88, 34.84, 51.94, 49.41, 42.48, 37.11, 52.86, 82.74, 77.11, 81.39, 55.49]\n",
      "The humidity information received is: [85, 33, 83, 68, 93, 93, 72, 70, 93, 81, 89, 81, 87, 83, 51, 78, 81]\n",
      "The cloudiness information received is: [100, 68, 90, 20, 100, 95, 14, 18, 100, 54, 24, 50, 75, 40, 40, 100, 0]\n",
      "The wind speed information received is: [5.23, 2.95, 3.36, 11.41, 8.41, 2.24, 2.89, 2.33, 3.36, 8.05, 2.24, 11.83, 11.41, 13.87, 3.36, 5.1, 3]\n",
      "city: kiriakion\n",
      "Oops, that key doesn't exist.\n"
     ]
    }
   ],
   "source": [
    "#cities = [\"Wallonia\",\"Paris\", \"London\", \"Oslo\", \"Beijing\",\"Chicago\",\"Saint-Nicolas\", \"Sydney\"]\n",
    "#cities = file_one_df[\"city\"].tolist()\n",
    "\n",
    "    # set up lists to hold reponse info\n",
    "lat = []\n",
    "lon = []\n",
    "temp = []\n",
    "hum = []\n",
    "cloud = []\n",
    "wind = []\n",
    "try: \n",
    "    # Loop through the list of cities and perform a request for data on each\n",
    "    for city in cities:\n",
    "        print(\"city: \"+city)\n",
    "        response = requests.get(query_url + city).json()\n",
    "        lat.append(response['coord']['lat'])\n",
    "        lon.append(response['coord']['lon'])\n",
    "        temp.append(response['main']['temp'])\n",
    "        hum.append(response['main']['humidity'])\n",
    "        cloud.append(response['clouds']['all'])\n",
    "        wind.append(response['wind']['speed'])\n",
    "       \n",
    "        print(f\"The latitude information received is: {lat}\")\n",
    "        print(f\"The longitude information received is: {lon}\")\n",
    "        print(f\"The temperature information received is: {temp}\")\n",
    "        print(f\"The humidity information received is: {hum}\")\n",
    "        print(f\"The cloudiness information received is: {cloud}\")\n",
    "        print(f\"The wind speed information received is: {wind}\")        \n",
    "\n",
    "except KeyError:\n",
    "    print(\"Oops, that key doesn't exist.\")\n",
    "except NameError:\n",
    "    print(\"Oh, I forgot to define 'name'. D'oh.\") \n",
    "except ValueError:\n",
    "    print(\"Oh, I forgot to define 'value'. D'oh.\") "
   ]
  },
  {
   "cell_type": "code",
   "execution_count": 234,
   "metadata": {},
   "outputs": [
    {
     "name": "stdout",
     "output_type": "stream",
     "text": [
      "Oh, I forgot to define 'value'. D'oh.\n"
     ]
    }
   ],
   "source": [
    "# create a dataframe from city, lat, temp, hum, cloud, and wind\n",
    "try:\n",
    "    weather_dict = {\n",
    "        \"city\": cities,\n",
    "        \"lat\": lat,\n",
    "        \"lon\" : lon,\n",
    "        \"temp\": temp,\n",
    "        \"hum\" : hum,\n",
    "        \"cloud\" : cloud,\n",
    "        \"wind\" : wind\n",
    "    }\n",
    "    weather_data = pd.DataFrame(weather_dict)\n",
    "except KeyError:\n",
    "    print(\"Oops, that key doesn't exist.\")\n",
    "except NameError:\n",
    "    print(\"Oh, I forgot to define 'name'. D'oh.\") \n",
    "except ValueError:\n",
    "    print(\"Oh, I forgot to define 'value'. D'oh.\") "
   ]
  },
  {
   "cell_type": "code",
   "execution_count": 236,
   "metadata": {},
   "outputs": [
    {
     "data": {
      "text/html": [
       "<div>\n",
       "<style scoped>\n",
       "    .dataframe tbody tr th:only-of-type {\n",
       "        vertical-align: middle;\n",
       "    }\n",
       "\n",
       "    .dataframe tbody tr th {\n",
       "        vertical-align: top;\n",
       "    }\n",
       "\n",
       "    .dataframe thead th {\n",
       "        text-align: right;\n",
       "    }\n",
       "</style>\n",
       "<table border=\"1\" class=\"dataframe\">\n",
       "  <thead>\n",
       "    <tr style=\"text-align: right;\">\n",
       "      <th></th>\n",
       "      <th>city</th>\n",
       "      <th>lat</th>\n",
       "      <th>lon</th>\n",
       "      <th>temp</th>\n",
       "      <th>hum</th>\n",
       "      <th>cloud</th>\n",
       "      <th>wind</th>\n",
       "    </tr>\n",
       "  </thead>\n",
       "  <tbody>\n",
       "    <tr>\n",
       "      <th>0</th>\n",
       "      <td>kiriakion</td>\n",
       "      <td>10.87</td>\n",
       "      <td>119.42</td>\n",
       "      <td>80.11</td>\n",
       "      <td>85</td>\n",
       "      <td>100</td>\n",
       "      <td>5.23</td>\n",
       "    </tr>\n",
       "    <tr>\n",
       "      <th>1</th>\n",
       "      <td>kiriakion</td>\n",
       "      <td>-6.18</td>\n",
       "      <td>-43.78</td>\n",
       "      <td>85.68</td>\n",
       "      <td>33</td>\n",
       "      <td>68</td>\n",
       "      <td>2.95</td>\n",
       "    </tr>\n",
       "    <tr>\n",
       "      <th>2</th>\n",
       "      <td>kiriakion</td>\n",
       "      <td>14.37</td>\n",
       "      <td>120.81</td>\n",
       "      <td>80.29</td>\n",
       "      <td>88</td>\n",
       "      <td>90</td>\n",
       "      <td>3.36</td>\n",
       "    </tr>\n",
       "    <tr>\n",
       "      <th>3</th>\n",
       "      <td>kiriakion</td>\n",
       "      <td>-3.33</td>\n",
       "      <td>36.80</td>\n",
       "      <td>69.73</td>\n",
       "      <td>68</td>\n",
       "      <td>20</td>\n",
       "      <td>11.41</td>\n",
       "    </tr>\n",
       "    <tr>\n",
       "      <th>4</th>\n",
       "      <td>kiriakion</td>\n",
       "      <td>54.20</td>\n",
       "      <td>9.10</td>\n",
       "      <td>46.99</td>\n",
       "      <td>93</td>\n",
       "      <td>100</td>\n",
       "      <td>8.41</td>\n",
       "    </tr>\n",
       "    <tr>\n",
       "      <th>5</th>\n",
       "      <td>kiriakion</td>\n",
       "      <td>47.42</td>\n",
       "      <td>15.00</td>\n",
       "      <td>41.47</td>\n",
       "      <td>93</td>\n",
       "      <td>95</td>\n",
       "      <td>2.24</td>\n",
       "    </tr>\n",
       "    <tr>\n",
       "      <th>6</th>\n",
       "      <td>kiriakion</td>\n",
       "      <td>41.46</td>\n",
       "      <td>48.81</td>\n",
       "      <td>59.88</td>\n",
       "      <td>72</td>\n",
       "      <td>14</td>\n",
       "      <td>2.89</td>\n",
       "    </tr>\n",
       "    <tr>\n",
       "      <th>7</th>\n",
       "      <td>kiriakion</td>\n",
       "      <td>51.15</td>\n",
       "      <td>-100.05</td>\n",
       "      <td>34.84</td>\n",
       "      <td>70</td>\n",
       "      <td>18</td>\n",
       "      <td>2.33</td>\n",
       "    </tr>\n",
       "    <tr>\n",
       "      <th>8</th>\n",
       "      <td>kiriakion</td>\n",
       "      <td>55.91</td>\n",
       "      <td>-4.87</td>\n",
       "      <td>51.94</td>\n",
       "      <td>93</td>\n",
       "      <td>100</td>\n",
       "      <td>3.36</td>\n",
       "    </tr>\n",
       "    <tr>\n",
       "      <th>9</th>\n",
       "      <td>kiriakion</td>\n",
       "      <td>48.57</td>\n",
       "      <td>2.44</td>\n",
       "      <td>49.41</td>\n",
       "      <td>81</td>\n",
       "      <td>54</td>\n",
       "      <td>8.05</td>\n",
       "    </tr>\n",
       "    <tr>\n",
       "      <th>10</th>\n",
       "      <td>kiriakion</td>\n",
       "      <td>48.11</td>\n",
       "      <td>21.92</td>\n",
       "      <td>42.48</td>\n",
       "      <td>89</td>\n",
       "      <td>24</td>\n",
       "      <td>2.24</td>\n",
       "    </tr>\n",
       "    <tr>\n",
       "      <th>11</th>\n",
       "      <td>kiriakion</td>\n",
       "      <td>53.13</td>\n",
       "      <td>35.40</td>\n",
       "      <td>37.11</td>\n",
       "      <td>81</td>\n",
       "      <td>50</td>\n",
       "      <td>11.83</td>\n",
       "    </tr>\n",
       "    <tr>\n",
       "      <th>12</th>\n",
       "      <td>kiriakion</td>\n",
       "      <td>53.22</td>\n",
       "      <td>-7.00</td>\n",
       "      <td>52.84</td>\n",
       "      <td>87</td>\n",
       "      <td>75</td>\n",
       "      <td>11.41</td>\n",
       "    </tr>\n",
       "    <tr>\n",
       "      <th>13</th>\n",
       "      <td>kiriakion</td>\n",
       "      <td>28.02</td>\n",
       "      <td>-97.05</td>\n",
       "      <td>82.89</td>\n",
       "      <td>83</td>\n",
       "      <td>40</td>\n",
       "      <td>13.87</td>\n",
       "    </tr>\n",
       "    <tr>\n",
       "      <th>14</th>\n",
       "      <td>kiriakion</td>\n",
       "      <td>18.89</td>\n",
       "      <td>-99.72</td>\n",
       "      <td>77.13</td>\n",
       "      <td>51</td>\n",
       "      <td>40</td>\n",
       "      <td>3.36</td>\n",
       "    </tr>\n",
       "    <tr>\n",
       "      <th>15</th>\n",
       "      <td>kiriakion</td>\n",
       "      <td>11.33</td>\n",
       "      <td>124.11</td>\n",
       "      <td>81.39</td>\n",
       "      <td>78</td>\n",
       "      <td>100</td>\n",
       "      <td>5.10</td>\n",
       "    </tr>\n",
       "    <tr>\n",
       "      <th>16</th>\n",
       "      <td>kiriakion</td>\n",
       "      <td>37.50</td>\n",
       "      <td>13.26</td>\n",
       "      <td>55.99</td>\n",
       "      <td>79</td>\n",
       "      <td>0</td>\n",
       "      <td>3.00</td>\n",
       "    </tr>\n",
       "  </tbody>\n",
       "</table>\n",
       "</div>"
      ],
      "text/plain": [
       "         city    lat     lon   temp  hum  cloud   wind\n",
       "0   kiriakion  10.87  119.42  80.11   85    100   5.23\n",
       "1   kiriakion  -6.18  -43.78  85.68   33     68   2.95\n",
       "2   kiriakion  14.37  120.81  80.29   88     90   3.36\n",
       "3   kiriakion  -3.33   36.80  69.73   68     20  11.41\n",
       "4   kiriakion  54.20    9.10  46.99   93    100   8.41\n",
       "5   kiriakion  47.42   15.00  41.47   93     95   2.24\n",
       "6   kiriakion  41.46   48.81  59.88   72     14   2.89\n",
       "7   kiriakion  51.15 -100.05  34.84   70     18   2.33\n",
       "8   kiriakion  55.91   -4.87  51.94   93    100   3.36\n",
       "9   kiriakion  48.57    2.44  49.41   81     54   8.05\n",
       "10  kiriakion  48.11   21.92  42.48   89     24   2.24\n",
       "11  kiriakion  53.13   35.40  37.11   81     50  11.83\n",
       "12  kiriakion  53.22   -7.00  52.84   87     75  11.41\n",
       "13  kiriakion  28.02  -97.05  82.89   83     40  13.87\n",
       "14  kiriakion  18.89  -99.72  77.13   51     40   3.36\n",
       "15  kiriakion  11.33  124.11  81.39   78    100   5.10\n",
       "16  kiriakion  37.50   13.26  55.99   79      0   3.00"
      ]
     },
     "execution_count": 236,
     "metadata": {},
     "output_type": "execute_result"
    }
   ],
   "source": [
    "weather_data"
   ]
  },
  {
   "cell_type": "code",
   "execution_count": 237,
   "metadata": {},
   "outputs": [
    {
     "data": {
      "image/png": "[encoded data removed]",
      "text/plain": [
       "<Figure size 432x288 with 1 Axes>"
      ]
     },
     "metadata": {
      "needs_background": "light"
     },
     "output_type": "display_data"
    }
   ],
   "source": [
    "# Build a scatter plot: Temperature (Imperial) versus Latitude\n",
    "plt.scatter(weather_data[\"lat\"], weather_data[\"temp\"], marker=\"o\")\n",
    "\n",
    "# Incorporate the other graph properties\n",
    "plt.title(\"Temperature in World Cities\")\n",
    "plt.ylabel(\"Temperature (Fahrenheit)\")\n",
    "plt.xlabel(\"Latitude\")\n",
    "plt.grid(True)\n",
    "\n",
    "# Save the figure\n",
    "plt.savefig(\"TemperatureInWorldCities.png\")\n",
    "\n",
    "# Show plot\n",
    "plt.show()"
   ]
  },
  {
   "cell_type": "code",
   "execution_count": 238,
   "metadata": {},
   "outputs": [
    {
     "data": {
      "image/png": "[encoded data removed]",
      "text/plain": [
       "<Figure size 432x288 with 1 Axes>"
      ]
     },
     "metadata": {
      "needs_background": "light"
     },
     "output_type": "display_data"
    }
   ],
   "source": [
    "# Build a scatter plot: Humidity (%) vs. Latitude\n",
    "plt.scatter(weather_data[\"lat\"], weather_data[\"hum\"], marker=\"o\")\n",
    "\n",
    "# Incorporate the other graph properties\n",
    "plt.title(\"Humidity in World Cities\")\n",
    "plt.ylabel(\"Humidity\")\n",
    "plt.xlabel(\"Latitude\")\n",
    "plt.grid(True)\n",
    "\n",
    "# Save the figure\n",
    "plt.savefig(\"HumidityInWorldCities.png\")\n",
    "\n",
    "# Show plot\n",
    "plt.show()"
   ]
  },
  {
   "cell_type": "code",
   "execution_count": 239,
   "metadata": {},
   "outputs": [
    {
     "data": {
      "image/png": "[encoded data removed]",
      "text/plain": [
       "<Figure size 432x288 with 1 Axes>"
      ]
     },
     "metadata": {
      "needs_background": "light"
     },
     "output_type": "display_data"
    }
   ],
   "source": [
    "# Build a scatter plot: Cloudiness (%) vs. Latitude\n",
    "plt.scatter(weather_data[\"lat\"], weather_data[\"cloud\"], marker=\"o\")\n",
    "\n",
    "# Incorporate the other graph properties\n",
    "plt.title(\"Cloudiness in World Cities\")\n",
    "plt.ylabel(\"Clouds\")\n",
    "plt.xlabel(\"Latitude\")\n",
    "plt.grid(True)\n",
    "\n",
    "# Save the figure\n",
    "plt.savefig(\"CloudinessInWorldCities.png\")\n",
    "\n",
    "# Show plot\n",
    "plt.show()"
   ]
  },
  {
   "cell_type": "code",
   "execution_count": 240,
   "metadata": {},
   "outputs": [
    {
     "data": {
      "image/png": "[encoded data removed]",
      "text/plain": [
       "<Figure size 432x288 with 1 Axes>"
      ]
     },
     "metadata": {
      "needs_background": "light"
     },
     "output_type": "display_data"
    }
   ],
   "source": [
    "# Build a scatter plot: Wind Speed (mph) vs. Latitude\n",
    "plt.scatter(weather_data[\"lat\"], weather_data[\"wind\"], marker=\"o\")\n",
    "\n",
    "# Incorporate the other graph properties\n",
    "plt.title(\"Wind Speed in World Cities\")\n",
    "plt.ylabel(\"Wind\")\n",
    "plt.xlabel(\"Latitude\")\n",
    "plt.grid(True)\n",
    "\n",
    "# Save the figure\n",
    "plt.savefig(\"WindSpeedInWorldCities.png\")\n",
    "\n",
    "# Show plot\n",
    "plt.show()"
   ]
  },
  {
   "cell_type": "code",
   "execution_count": 241,
   "metadata": {},
   "outputs": [],
   "source": [
    "weather_data_north=weather_data[weather_data[\"lat\"]>=0]\n",
    "weather_data_south=weather_data[weather_data[\"lat\"]<0]"
   ]
  },
  {
   "cell_type": "code",
   "execution_count": 242,
   "metadata": {},
   "outputs": [
    {
     "data": {
      "text/html": [
       "<div>\n",
       "<style scoped>\n",
       "    .dataframe tbody tr th:only-of-type {\n",
       "        vertical-align: middle;\n",
       "    }\n",
       "\n",
       "    .dataframe tbody tr th {\n",
       "        vertical-align: top;\n",
       "    }\n",
       "\n",
       "    .dataframe thead th {\n",
       "        text-align: right;\n",
       "    }\n",
       "</style>\n",
       "<table border=\"1\" class=\"dataframe\">\n",
       "  <thead>\n",
       "    <tr style=\"text-align: right;\">\n",
       "      <th></th>\n",
       "      <th>city</th>\n",
       "      <th>lat</th>\n",
       "      <th>lon</th>\n",
       "      <th>temp</th>\n",
       "      <th>hum</th>\n",
       "      <th>cloud</th>\n",
       "      <th>wind</th>\n",
       "    </tr>\n",
       "  </thead>\n",
       "  <tbody>\n",
       "    <tr>\n",
       "      <th>1</th>\n",
       "      <td>kiriakion</td>\n",
       "      <td>-6.18</td>\n",
       "      <td>-43.78</td>\n",
       "      <td>85.68</td>\n",
       "      <td>33</td>\n",
       "      <td>68</td>\n",
       "      <td>2.95</td>\n",
       "    </tr>\n",
       "    <tr>\n",
       "      <th>3</th>\n",
       "      <td>kiriakion</td>\n",
       "      <td>-3.33</td>\n",
       "      <td>36.80</td>\n",
       "      <td>69.73</td>\n",
       "      <td>68</td>\n",
       "      <td>20</td>\n",
       "      <td>11.41</td>\n",
       "    </tr>\n",
       "  </tbody>\n",
       "</table>\n",
       "</div>"
      ],
      "text/plain": [
       "        city   lat    lon   temp  hum  cloud   wind\n",
       "1  kiriakion -6.18 -43.78  85.68   33     68   2.95\n",
       "3  kiriakion -3.33  36.80  69.73   68     20  11.41"
      ]
     },
     "execution_count": 242,
     "metadata": {},
     "output_type": "execute_result"
    }
   ],
   "source": [
    "weather_data_south"
   ]
  },
  {
   "cell_type": "code",
   "execution_count": 243,
   "metadata": {},
   "outputs": [
    {
     "data": {
      "image/png": "[encoded data removed]",
      "text/plain": [
       "<Figure size 432x288 with 1 Axes>"
      ]
     },
     "metadata": {
      "needs_background": "light"
     },
     "output_type": "display_data"
    }
   ],
   "source": [
    "# Build a scatter plot: Temperature (Imperial) versus Latitude - Northern Hemisphere\n",
    "plt.scatter(weather_data_north[\"lat\"], weather_data_north[\"temp\"], marker=\"o\")\n",
    "\n",
    "# Incorporate the other graph properties\n",
    "plt.title(\"Temperature in World Cities - Northern Hemisphere\")\n",
    "plt.ylabel(\"Temperature (Fahrenheit)\")\n",
    "plt.xlabel(\"Latitude\")\n",
    "plt.grid(True)\n",
    "\n",
    "# Save the figure\n",
    "plt.savefig(\"TemperatureInWorldCities.png\")\n",
    "\n",
    "# Show plot\n",
    "plt.show()"
   ]
  },
  {
   "cell_type": "code",
   "execution_count": 244,
   "metadata": {},
   "outputs": [
    {
     "data": {
      "image/png": "[encoded data removed]",
      "text/plain": [
       "<Figure size 432x288 with 1 Axes>"
      ]
     },
     "metadata": {
      "needs_background": "light"
     },
     "output_type": "display_data"
    }
   ],
   "source": [
    "# Build a scatter plot: Temperature (Imperial) versus Latitude - Southern Hemisphere\n",
    "plt.scatter(weather_data_south[\"lat\"], weather_data_south[\"temp\"], marker=\"o\")\n",
    "\n",
    "# Incorporate the other graph properties\n",
    "plt.title(\"Temperature in World Cities - Southern Hemisphere\")\n",
    "plt.ylabel(\"Temperature (Fahrenheit)\")\n",
    "plt.xlabel(\"Latitude\")\n",
    "plt.grid(True)\n",
    "\n",
    "# Save the figure\n",
    "plt.savefig(\"TemperatureInWorldCities.png\")\n",
    "\n",
    "# Show plot\n",
    "plt.show()"
   ]
  },
  {
   "cell_type": "code",
   "execution_count": 245,
   "metadata": {},
   "outputs": [
    {
     "data": {
      "image/png": "[encoded data removed]",
      "text/plain": [
       "<Figure size 432x288 with 1 Axes>"
      ]
     },
     "metadata": {
      "needs_background": "light"
     },
     "output_type": "display_data"
    }
   ],
   "source": [
    "# Build a scatter plot: Humidity (%) vs. Latitude - Northern Hemisphere\n",
    "plt.scatter(weather_data_north[\"lat\"], weather_data_north[\"hum\"], marker=\"o\")\n",
    "\n",
    "# Incorporate the other graph properties\n",
    "plt.title(\"Humidity in World Cities - Northern Hemisphere\")\n",
    "plt.ylabel(\"Humidity\")\n",
    "plt.xlabel(\"Latitude\")\n",
    "plt.grid(True)\n",
    "\n",
    "# Save the figure\n",
    "plt.savefig(\"HumidityInWorldCities.png\")\n",
    "\n",
    "# Show plot\n",
    "plt.show()"
   ]
  },
  {
   "cell_type": "code",
   "execution_count": 246,
   "metadata": {},
   "outputs": [
    {
     "data": {
      "image/png": "[encoded data removed]",
      "text/plain": [
       "<Figure size 432x288 with 1 Axes>"
      ]
     },
     "metadata": {
      "needs_background": "light"
     },
     "output_type": "display_data"
    }
   ],
   "source": [
    "# Build a scatter plot: Humidity (%) vs. Latitude - Southern Hemisphere\n",
    "plt.scatter(weather_data_south[\"lat\"], weather_data_south[\"hum\"], marker=\"o\")\n",
    "\n",
    "# Incorporate the other graph properties\n",
    "plt.title(\"Humidity in World Cities - Southern Hemisphere\")\n",
    "plt.ylabel(\"Humidity\")\n",
    "plt.xlabel(\"Latitude\")\n",
    "plt.grid(True)\n",
    "\n",
    "# Save the figure\n",
    "plt.savefig(\"HumidityInWorldCities.png\")\n",
    "\n",
    "# Show plot\n",
    "plt.show()"
   ]
  },
  {
   "cell_type": "code",
   "execution_count": 247,
   "metadata": {},
   "outputs": [
    {
     "data": {
      "image/png": "[encoded data removed]",
      "text/plain": [
       "<Figure size 432x288 with 1 Axes>"
      ]
     },
     "metadata": {
      "needs_background": "light"
     },
     "output_type": "display_data"
    }
   ],
   "source": [
    "# Build a scatter plot: Cloudiness (%) vs. Latitude - Northern Hemisphere\n",
    "plt.scatter(weather_data_north[\"lat\"], weather_data_north[\"cloud\"], marker=\"o\")\n",
    "\n",
    "# Incorporate the other graph properties\n",
    "plt.title(\"Cloudiness in World Cities - Northern Hemisphere\")\n",
    "plt.ylabel(\"Clouds\")\n",
    "plt.xlabel(\"Latitude\")\n",
    "plt.grid(True)\n",
    "\n",
    "# Save the figure\n",
    "plt.savefig(\"CloudinessInWorldCities.png\")\n",
    "\n",
    "# Show plot\n",
    "plt.show()"
   ]
  },
  {
   "cell_type": "code",
   "execution_count": 248,
   "metadata": {},
   "outputs": [
    {
     "data": {
      "image/png": "[encoded data removed]",
      "text/plain": [
       "<Figure size 432x288 with 1 Axes>"
      ]
     },
     "metadata": {
      "needs_background": "light"
     },
     "output_type": "display_data"
    }
   ],
   "source": [
    "# Build a scatter plot: Cloudiness (%) vs. Latitude - Southern Hemisphere\n",
    "plt.scatter(weather_data_south[\"lat\"], weather_data_south[\"cloud\"], marker=\"o\")\n",
    "\n",
    "# Incorporate the other graph properties\n",
    "plt.title(\"Cloudiness in World Cities - Southern Hemisphere\")\n",
    "plt.ylabel(\"Clouds\")\n",
    "plt.xlabel(\"Latitude\")\n",
    "plt.grid(True)\n",
    "\n",
    "# Save the figure\n",
    "plt.savefig(\"CloudinessInWorldCities.png\")\n",
    "\n",
    "# Show plot\n",
    "plt.show()"
   ]
  },
  {
   "cell_type": "code",
   "execution_count": 249,
   "metadata": {},
   "outputs": [
    {
     "data": {
      "image/png": "[encoded data removed]",
      "text/plain": [
       "<Figure size 432x288 with 1 Axes>"
      ]
     },
     "metadata": {
      "needs_background": "light"
     },
     "output_type": "display_data"
    }
   ],
   "source": [
    "# Build a scatter plot: Wind Speed (mph) vs. Latitude - Northern Hemisphere\n",
    "plt.scatter(weather_data_north[\"lat\"], weather_data_north[\"wind\"], marker=\"o\")\n",
    "\n",
    "# Incorporate the other graph properties\n",
    "plt.title(\"Wind Speed in World Cities - Northern Hemisphere\")\n",
    "plt.ylabel(\"Wind\")\n",
    "plt.xlabel(\"Latitude\")\n",
    "plt.grid(True)\n",
    "\n",
    "# Save the figure\n",
    "plt.savefig(\"WindSpeedInWorldCities.png\")\n",
    "\n",
    "# Show plot\n",
    "plt.show()"
   ]
  },
  {
   "cell_type": "code",
   "execution_count": 251,
   "metadata": {},
   "outputs": [
    {
     "data": {
      "image/png": "[encoded data removed]",
      "text/plain": [
       "<Figure size 432x288 with 1 Axes>"
      ]
     },
     "metadata": {
      "needs_background": "light"
     },
     "output_type": "display_data"
    }
   ],
   "source": [
    "# Build a scatter plot: Wind Speed (mph) vs. Latitude - Southern Hemisphere\n",
    "plt.scatter(weather_data_south[\"lat\"], weather_data_south[\"wind\"], marker=\"o\")\n",
    "\n",
    "# Incorporate the other graph properties\n",
    "plt.title(\"Wind Speed in World Cities - Southern Hemisphere\")\n",
    "plt.ylabel(\"Wind\")\n",
    "plt.xlabel(\"Latitude\")\n",
    "plt.grid(True)\n",
    "\n",
    "# Save the figure\n",
    "plt.savefig(\"WindSpeedInWorldCities.png\")\n",
    "\n",
    "# Show plot\n",
    "plt.show()"
   ]
  },
  {
   "cell_type": "code",
   "execution_count": null,
   "metadata": {},
   "outputs": [],
   "source": []
  }
 ],
 "metadata": {
  "kernelspec": {
   "display_name": "Python 3",
   "language": "python",
   "name": "python3"
  },
  "language_info": {
   "codemirror_mode": {
    "name": "ipython",
    "version": 3
   },
   "file_extension": ".py",
   "mimetype": "text/x-python",
   "name": "python",
   "nbconvert_exporter": "python",
   "pygments_lexer": "ipython3",
   "version": "3.8.3"
  },
  "varInspector": {
   "cols": {
    "lenName": 16,
    "lenType": 16,
    "lenVar": 40
   },
   "kernels_config": {
    "python": {
     "delete_cmd_postfix": "",
     "delete_cmd_prefix": "del ",
     "library": "var_list.py",
     "varRefreshCmd": "print(var_dic_list())"
    },
    "r": {
     "delete_cmd_postfix": ") ",
     "delete_cmd_prefix": "rm(",
     "library": "var_list.r",
     "varRefreshCmd": "cat(var_dic_list()) "
    }
   },
   "types_to_exclude": [
    "module",
    "function",
    "builtin_function_or_method",
    "instance",
    "_Feature"
   ],
   "window_display": false
  }
 },
 "nbformat": 4,
 "nbformat_minor": 2
}
