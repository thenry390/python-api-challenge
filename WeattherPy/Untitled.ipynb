{
 "cells": [
  {
   "cell_type": "code",
   "execution_count": 1,
   "metadata": {},
   "outputs": [
    {
     "name": "stdout",
     "output_type": "stream",
     "text": [
      "Collecting datapackageNote: you may need to restart the kernel to use updated packages.\n",
      "  Downloading datapackage-1.15.1-py2.py3-none-any.whl (85 kB)\n",
      "Collecting tableschema>=1.12.1\n",
      "  Downloading tableschema-1.20.0-py2.py3-none-any.whl (68 kB)\n",
      "Requirement already satisfied: click>=6.7 in c:\\users\\thenry\\anaconda3\\lib\\site-packages (from datapackage) (7.1.2)\n",
      "Collecting jsonpointer>=1.10\n",
      "\n",
      "  Downloading jsonpointer-2.0-py2.py3-none-any.whl (7.6 kB)\n",
      "Requirement already satisfied: chardet>=3.0 in c:\\users\\thenry\\anaconda3\\lib\\site-packages (from datapackage) (3.0.4)\n",
      "Requirement already satisfied: requests>=2.8 in c:\\users\\thenry\\anaconda3\\lib\\site-packages (from datapackage) (2.24.0)\n",
      "Collecting tabulator>=1.29\n",
      "  Downloading tabulator-1.52.4-py2.py3-none-any.whl (71 kB)\n",
      "Requirement already satisfied: six>=1.10 in c:\\users\\thenry\\anaconda3\\lib\\site-packages (from datapackage) (1.15.0)\n",
      "Requirement already satisfied: unicodecsv>=0.14 in c:\\users\\thenry\\anaconda3\\lib\\site-packages (from datapackage) (0.14.1)\n",
      "Requirement already satisfied: jsonschema>=2.5 in c:\\users\\thenry\\anaconda3\\lib\\site-packages (from datapackage) (3.2.0)\n",
      "Requirement already satisfied: python-dateutil>=2.4 in c:\\users\\thenry\\anaconda3\\lib\\site-packages (from tableschema>=1.12.1->datapackage) (2.8.1)\n",
      "Collecting cached-property>=1.5\n",
      "  Downloading cached_property-1.5.2-py2.py3-none-any.whl (7.6 kB)\n",
      "Collecting isodate>=0.5.4\n",
      "  Downloading isodate-0.6.0-py2.py3-none-any.whl (45 kB)\n",
      "Collecting rfc3986>=1.1.0\n",
      "  Downloading rfc3986-1.4.0-py2.py3-none-any.whl (31 kB)\n",
      "Requirement already satisfied: urllib3!=1.25.0,!=1.25.1,<1.26,>=1.21.1 in c:\\users\\thenry\\anaconda3\\lib\\site-packages (from requests>=2.8->datapackage) (1.25.9)\n",
      "Requirement already satisfied: certifi>=2017.4.17 in c:\\users\\thenry\\anaconda3\\lib\\site-packages (from requests>=2.8->datapackage) (2020.6.20)\n",
      "Requirement already satisfied: idna<3,>=2.5 in c:\\users\\thenry\\anaconda3\\lib\\site-packages (from requests>=2.8->datapackage) (2.10)\n",
      "Requirement already satisfied: openpyxl>=2.6 in c:\\users\\thenry\\anaconda3\\lib\\site-packages (from tabulator>=1.29->datapackage) (3.0.4)\n",
      "Collecting jsonlines>=1.1\n",
      "  Downloading jsonlines-1.2.0-py2.py3-none-any.whl (7.6 kB)\n",
      "Collecting ijson>=3.0.3\n",
      "  Downloading ijson-3.1.2.post0-cp38-cp38-win_amd64.whl (49 kB)\n",
      "Requirement already satisfied: xlrd>=1.0 in c:\\users\\thenry\\anaconda3\\lib\\site-packages (from tabulator>=1.29->datapackage) (1.2.0)\n",
      "Collecting linear-tsv>=1.0\n",
      "  Downloading linear-tsv-1.1.0.tar.gz (9.6 kB)\n",
      "Requirement already satisfied: sqlalchemy>=0.9.6 in c:\\users\\thenry\\anaconda3\\lib\\site-packages (from tabulator>=1.29->datapackage) (1.3.18)\n",
      "Collecting boto3>=1.9\n",
      "  Downloading boto3-1.15.18-py2.py3-none-any.whl (129 kB)\n",
      "Requirement already satisfied: setuptools in c:\\users\\thenry\\anaconda3\\lib\\site-packages (from jsonschema>=2.5->datapackage) (49.2.0.post20200714)\n",
      "Requirement already satisfied: attrs>=17.4.0 in c:\\users\\thenry\\anaconda3\\lib\\site-packages (from jsonschema>=2.5->datapackage) (19.3.0)\n",
      "Requirement already satisfied: pyrsistent>=0.14.0 in c:\\users\\thenry\\anaconda3\\lib\\site-packages (from jsonschema>=2.5->datapackage) (0.16.0)\n",
      "Requirement already satisfied: et-xmlfile in c:\\users\\thenry\\anaconda3\\lib\\site-packages (from openpyxl>=2.6->tabulator>=1.29->datapackage) (1.0.1)\n",
      "Requirement already satisfied: jdcal in c:\\users\\thenry\\anaconda3\\lib\\site-packages (from openpyxl>=2.6->tabulator>=1.29->datapackage) (1.4.1)\n",
      "Collecting jmespath<1.0.0,>=0.7.1\n",
      "  Downloading jmespath-0.10.0-py2.py3-none-any.whl (24 kB)\n",
      "Collecting s3transfer<0.4.0,>=0.3.0\n",
      "  Downloading s3transfer-0.3.3-py2.py3-none-any.whl (69 kB)\n",
      "Collecting botocore<1.19.0,>=1.18.18\n",
      "  Downloading botocore-1.18.18-py2.py3-none-any.whl (6.7 MB)\n",
      "Building wheels for collected packages: linear-tsv\n",
      "  Building wheel for linear-tsv (setup.py): started\n",
      "  Building wheel for linear-tsv (setup.py): finished with status 'done'\n",
      "  Created wheel for linear-tsv: filename=linear_tsv-1.1.0-py3-none-any.whl size=7389 sha256=ee66a19b6de858b9061496a29e1285fd059ca51bc71e8a9ae25653b19625dca9\n",
      "  Stored in directory: c:\\users\\thenry\\appdata\\local\\pip\\cache\\wheels\\31\\25\\a5\\d9b4b59636e1b9f183b7e1022e7be5c51141717b92398d7f9e\n",
      "Successfully built linear-tsv\n",
      "Installing collected packages: cached-property, jsonlines, ijson, linear-tsv, jmespath, botocore, s3transfer, boto3, tabulator, isodate, rfc3986, tableschema, jsonpointer, datapackage\n"
     ]
    }
   ],
   "source": [
    "pip install datapackage"
   ]
  },
  {
   "cell_type": "code",
   "execution_count": 8,
   "metadata": {},
   "outputs": [
    {
     "name": "stdout",
     "output_type": "stream",
     "text": [
      "['validation_report', 'world-cities_csv', 'world-cities_json', 'world-cities_zip', 'world-cities_csv_preview', 'world-cities']\n"
     ]
    }
   ],
   "source": [
    "from datapackage import Package\n",
    "\n",
    "package = Package('https://datahub.io/core/world-cities/datapackage.json')\n",
    "\n",
    "# print list of all resources:\n",
    "print(package.resource_names)\n",
    "\n",
    "# print processed tabular data (if exists any)\n",
    "#for resource in package.resources:\n",
    "#    if resource.descriptor['datahub']['type'] == 'derived/csv':\n",
    "#        print(resource.read())\n",
    "        \n",
    "\n",
    "        "
   ]
  },
  {
   "cell_type": "code",
   "execution_count": 24,
   "metadata": {},
   "outputs": [
    {
     "data": {
      "text/plain": [
       "[['les Escaldes', 'Andorra', 'Escaldes-Engordany', 3040051],\n",
       " ['Andorra la Vella', 'Andorra', 'Andorra la Vella', 3041563],\n",
       " ['Umm al Qaywayn', 'United Arab Emirates', 'Umm al Qaywayn', 290594]]"
      ]
     },
     "execution_count": 24,
     "metadata": {},
     "output_type": "execute_result"
    }
   ],
   "source": [
    "resource.read()[0:3]"
   ]
  },
  {
   "cell_type": "code",
   "execution_count": 22,
   "metadata": {},
   "outputs": [
    {
     "data": {
      "text/plain": [
       "23018"
      ]
     },
     "execution_count": 22,
     "metadata": {},
     "output_type": "execute_result"
    }
   ],
   "source": [
    "len(resource.read())"
   ]
  },
  {
   "cell_type": "code",
   "execution_count": null,
   "metadata": {},
   "outputs": [],
   "source": []
  }
 ],
 "metadata": {
  "kernelspec": {
   "display_name": "Python 3",
   "language": "python",
   "name": "python3"
  },
  "language_info": {
   "codemirror_mode": {
    "name": "ipython",
    "version": 3
   },
   "file_extension": ".py",
   "mimetype": "text/x-python",
   "name": "python",
   "nbconvert_exporter": "python",
   "pygments_lexer": "ipython3",
   "version": "3.8.3"
  }
 },
 "nbformat": 4,
 "nbformat_minor": 4
}
